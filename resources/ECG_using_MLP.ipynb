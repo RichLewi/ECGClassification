{
  "cells": [
    {
      "cell_type": "code",
      "execution_count": 3,
      "metadata": {
        "colab": {
          "base_uri": "https://localhost:8080/"
        },
        "id": "bDnrFXigV_dx",
        "outputId": "72525b6b-3eab-44c5-b3ed-bf2cde5cc229"
      },
      "outputs": [
        {
          "name": "stdout",
          "output_type": "stream",
          "text": [
            "Warning: Looks like you're using an outdated `kagglehub` version (installed: 0.3.9), please consider upgrading to the latest version (0.3.10).\n",
            "Downloading from https://www.kaggle.com/api/v1/datasets/download/shayanfazeli/heartbeat?dataset_version_number=1...\n"
          ]
        },
        {
          "name": "stderr",
          "output_type": "stream",
          "text": [
            "100%|██████████| 98.8M/98.8M [00:32<00:00, 3.19MB/s]"
          ]
        },
        {
          "name": "stdout",
          "output_type": "stream",
          "text": [
            "Extracting files...\n"
          ]
        },
        {
          "name": "stderr",
          "output_type": "stream",
          "text": [
            "\n"
          ]
        },
        {
          "name": "stdout",
          "output_type": "stream",
          "text": [
            "Data source import complete.\n"
          ]
        }
      ],
      "source": [
        "# IMPORTANT: RUN THIS CELL IN ORDER TO IMPORT YOUR KAGGLE DATA SOURCES,\n",
        "# THEN FEEL FREE TO DELETE THIS CELL.\n",
        "# NOTE: THIS NOTEBOOK ENVIRONMENT DIFFERS FROM KAGGLE'S PYTHON\n",
        "# ENVIRONMENT SO THERE MAY BE MISSING LIBRARIES USED BY YOUR\n",
        "# NOTEBOOK.\n",
        "import kagglehub\n",
        "shayanfazeli_heartbeat_path = kagglehub.dataset_download('shayanfazeli/heartbeat')\n",
        "\n",
        "print('Data source import complete.')\n"
      ]
    },
    {
      "cell_type": "code",
      "execution_count": 2,
      "metadata": {
        "_cell_guid": "b1076dfc-b9ad-4769-8c92-a6c4dae69d19",
        "_uuid": "8f2839f25d086af736a60e9eeb907d3b93b6e0e5",
        "id": "XCaxGdxyV_d0",
        "trusted": true
      },
      "outputs": [
        {
          "ename": "ModuleNotFoundError",
          "evalue": "No module named 'imblearn'",
          "output_type": "error",
          "traceback": [
            "\u001b[0;31m---------------------------------------------------------------------------\u001b[0m",
            "\u001b[0;31mModuleNotFoundError\u001b[0m                       Traceback (most recent call last)",
            "Cell \u001b[0;32mIn[2], line 11\u001b[0m\n\u001b[1;32m      7\u001b[0m \u001b[38;5;28;01mimport\u001b[39;00m\u001b[38;5;250m \u001b[39m\u001b[38;5;21;01mplotly\u001b[39;00m\u001b[38;5;21;01m.\u001b[39;00m\u001b[38;5;21;01mexpress\u001b[39;00m\u001b[38;5;250m \u001b[39m\u001b[38;5;28;01mas\u001b[39;00m\u001b[38;5;250m \u001b[39m\u001b[38;5;21;01mpx\u001b[39;00m\n\u001b[1;32m      9\u001b[0m \u001b[38;5;28;01mfrom\u001b[39;00m\u001b[38;5;250m \u001b[39m\u001b[38;5;21;01msklearn\u001b[39;00m\u001b[38;5;21;01m.\u001b[39;00m\u001b[38;5;21;01mmodel_selection\u001b[39;00m\u001b[38;5;250m \u001b[39m\u001b[38;5;28;01mimport\u001b[39;00m train_test_split\n\u001b[0;32m---> 11\u001b[0m \u001b[38;5;28;01mfrom\u001b[39;00m\u001b[38;5;250m \u001b[39m\u001b[38;5;21;01mimblearn\u001b[39;00m\u001b[38;5;21;01m.\u001b[39;00m\u001b[38;5;21;01mover_sampling\u001b[39;00m\u001b[38;5;250m \u001b[39m\u001b[38;5;28;01mimport\u001b[39;00m SMOTE\n\u001b[1;32m     12\u001b[0m \u001b[38;5;28;01mfrom\u001b[39;00m\u001b[38;5;250m \u001b[39m\u001b[38;5;21;01msklearn\u001b[39;00m\u001b[38;5;21;01m.\u001b[39;00m\u001b[38;5;21;01mlinear_model\u001b[39;00m\u001b[38;5;250m \u001b[39m\u001b[38;5;28;01mimport\u001b[39;00m LogisticRegression\n\u001b[1;32m     14\u001b[0m \u001b[38;5;28;01mfrom\u001b[39;00m\u001b[38;5;250m \u001b[39m\u001b[38;5;21;01msklearn\u001b[39;00m\u001b[38;5;21;01m.\u001b[39;00m\u001b[38;5;21;01mmetrics\u001b[39;00m\u001b[38;5;250m \u001b[39m\u001b[38;5;28;01mimport\u001b[39;00m accuracy_score\n",
            "\u001b[0;31mModuleNotFoundError\u001b[0m: No module named 'imblearn'"
          ]
        }
      ],
      "source": [
        "import os\n",
        "import pandas as pd\n",
        "import numpy as np\n",
        "import matplotlib.pyplot as plt\n",
        "import seaborn as sns\n",
        "import random\n",
        "import plotly.express as px\n",
        "\n",
        "from sklearn.model_selection import train_test_split\n",
        "\n",
        "from imblearn.over_sampling import SMOTE\n",
        "from sklearn.linear_model import LogisticRegression\n",
        "\n",
        "from sklearn.metrics import accuracy_score\n",
        "from sklearn.ensemble import RandomForestClassifier\n",
        "\n",
        "from sklearn.metrics import classification_report, confusion_matrix\n",
        "from sklearn.neighbors import KNeighborsClassifier\n",
        "from sklearn.preprocessing import StandardScaler\n",
        "\n",
        "from tensorflow.keras.models import Sequential\n",
        "from tensorflow.keras.layers import Dense,Input,Dropout\n"
      ]
    },
    {
      "cell_type": "code",
      "execution_count": null,
      "metadata": {
        "colab": {
          "base_uri": "https://localhost:8080/",
          "height": 316
        },
        "execution": {
          "iopub.execute_input": "2025-01-08T09:53:06.184243Z",
          "iopub.status.busy": "2025-01-08T09:53:06.183939Z",
          "iopub.status.idle": "2025-01-08T09:53:10.449937Z",
          "shell.execute_reply": "2025-01-08T09:53:10.449107Z",
          "shell.execute_reply.started": "2025-01-08T09:53:06.184221Z"
        },
        "id": "stDEPfquV_d0",
        "outputId": "662aa302-e2d4-4be2-9d7b-3532478415bb",
        "trusted": true
      },
      "outputs": [
        {
          "ename": "NameError",
          "evalue": "name 'pd' is not defined",
          "output_type": "error",
          "traceback": [
            "\u001b[0;31m---------------------------------------------------------------------------\u001b[0m",
            "\u001b[0;31mNameError\u001b[0m                                 Traceback (most recent call last)",
            "Cell \u001b[0;32mIn[1], line 1\u001b[0m\n\u001b[0;32m----> 1\u001b[0m train_data \u001b[38;5;241m=\u001b[39m \u001b[43mpd\u001b[49m\u001b[38;5;241m.\u001b[39mread_csv(\u001b[38;5;124mr\u001b[39m\u001b[38;5;124m'\u001b[39m\u001b[38;5;124m/dataset/mitbih_train.csv\u001b[39m\u001b[38;5;124m'\u001b[39m,header\u001b[38;5;241m=\u001b[39m\u001b[38;5;28;01mNone\u001b[39;00m)\n\u001b[1;32m      2\u001b[0m train_data\u001b[38;5;241m.\u001b[39mhead()\n",
            "\u001b[0;31mNameError\u001b[0m: name 'pd' is not defined"
          ]
        }
      ],
      "source": [
        "#train_data = pd.read_csv(r'/kaggle/input/heartbeat/mitbih_train.csv',header=None)\n",
        "train_data = pd.read_csv('dataset/mitbih_train.csv',header=None)\n",
        "train_data.head()"
      ]
    },
    {
      "cell_type": "code",
      "execution_count": null,
      "metadata": {
        "execution": {
          "iopub.execute_input": "2025-01-08T09:53:10.451296Z",
          "iopub.status.busy": "2025-01-08T09:53:10.451042Z",
          "iopub.status.idle": "2025-01-08T09:53:11.549871Z",
          "shell.execute_reply": "2025-01-08T09:53:11.549162Z",
          "shell.execute_reply.started": "2025-01-08T09:53:10.451275Z"
        },
        "id": "d5cN9CPZV_d0",
        "trusted": true
      },
      "outputs": [],
      "source": [
        "#test_data = pd.read_csv(r'/kaggle/input/heartbeat/mitbih_test.csv',header=None)\n",
        "test_data = pd.read_csv('dataset/mitbih_test.csv',header=None)\n",
        "test_data.head()"
      ]
    },
    {
      "cell_type": "code",
      "execution_count": null,
      "metadata": {
        "execution": {
          "iopub.execute_input": "2025-01-08T09:41:06.597663Z",
          "iopub.status.busy": "2025-01-08T09:41:06.597421Z",
          "iopub.status.idle": "2025-01-08T09:41:06.601968Z",
          "shell.execute_reply": "2025-01-08T09:41:06.601256Z",
          "shell.execute_reply.started": "2025-01-08T09:41:06.597644Z"
        },
        "id": "GE5Dg7f3V_d0",
        "trusted": true
      },
      "outputs": [],
      "source": [
        "print(f\"train data size: {train_data.shape}\")\n",
        "print(f\"test data size: {test_data.shape}\")"
      ]
    },
    {
      "cell_type": "code",
      "execution_count": null,
      "metadata": {
        "execution": {
          "iopub.execute_input": "2025-01-08T09:41:08.650832Z",
          "iopub.status.busy": "2025-01-08T09:41:08.650548Z",
          "iopub.status.idle": "2025-01-08T09:41:09.632754Z",
          "shell.execute_reply": "2025-01-08T09:41:09.631948Z",
          "shell.execute_reply.started": "2025-01-08T09:41:08.650811Z"
        },
        "id": "hFxFAHboV_d1",
        "trusted": true
      },
      "outputs": [],
      "source": [
        "labels = {\n",
        "    0: \"Normal\",\n",
        "    1: \"Artial Premature\",\n",
        "    2: \"Premature ventricular contraction\",\n",
        "    3: \"Fusion of ventricular and normal\",\n",
        "    4: \"Fusion of paced and normal\"\n",
        "}\n",
        "\n",
        "\n",
        "value_counts = train_data.iloc[:,-1].value_counts().rename(labels)\n",
        "\n",
        "pie_fig = px.pie(names=value_counts.index, values=value_counts.values,\n",
        "                 title=\"The Percentage of Each Label in The Train Dataset\")\n",
        "\n",
        "pie_fig.update_layout(title_x=0.5, width=800, height=600)\n",
        "pie_fig.show()\n"
      ]
    },
    {
      "cell_type": "code",
      "execution_count": null,
      "metadata": {
        "execution": {
          "iopub.execute_input": "2025-01-08T09:41:13.631118Z",
          "iopub.status.busy": "2025-01-08T09:41:13.630696Z",
          "iopub.status.idle": "2025-01-08T09:41:13.675965Z",
          "shell.execute_reply": "2025-01-08T09:41:13.675098Z",
          "shell.execute_reply.started": "2025-01-08T09:41:13.631082Z"
        },
        "id": "WUW1X6gSV_d1",
        "trusted": true
      },
      "outputs": [],
      "source": [
        "# See the number of each class in test dataset\n",
        "value_counts_test = test_data.iloc[:,-1].value_counts().rename(labels)\n",
        "\n",
        "pie_fig = px.pie(names=value_counts_test.index, values=value_counts_test.values,\n",
        "                 title=\"The Percentage of Each Label in The Test Dataset\")\n",
        "\n",
        "pie_fig.update_layout(title_x=0.5, width=800, height=600)\n",
        "pie_fig.show()"
      ]
    },
    {
      "cell_type": "code",
      "execution_count": null,
      "metadata": {
        "execution": {
          "iopub.execute_input": "2025-01-08T09:41:29.000027Z",
          "iopub.status.busy": "2025-01-08T09:41:28.999706Z",
          "iopub.status.idle": "2025-01-08T09:41:29.15919Z",
          "shell.execute_reply": "2025-01-08T09:41:29.158305Z",
          "shell.execute_reply.started": "2025-01-08T09:41:28.999995Z"
        },
        "id": "D4GS-3E2V_d1",
        "trusted": true
      },
      "outputs": [],
      "source": [
        "ecg_0 = train_data.loc[train_data[187]==0, :].iloc[1,:187]\n",
        "ecg_1 = train_data.loc[train_data[187]==1, :].iloc[1,:187]\n",
        "ecg_2 = train_data.loc[train_data[187]==2, :].iloc[1,:187]\n",
        "ecg_3 = train_data.loc[train_data[187]==3, :].iloc[1,:187]\n",
        "ecg_4 = train_data.loc[train_data[187]==4, :].iloc[1,:187]\n",
        "\n",
        "ecg_df = pd.DataFrame({'Normal': ecg_0,\n",
        "                       'Artial Premature': ecg_1,\n",
        "                       'Premature ventricular contraction': ecg_2,\n",
        "                       'Fusion of ventricular and normal': ecg_3,\n",
        "                       'Fusion of paced and normal': ecg_4})\n",
        "ecg_plot = px.line(ecg_df,\n",
        "                  labels={'index':'Time Intervals', 'value':'Amplitude (mV)', 'variable':'Categories'},\n",
        "                  title=\"One ECG form Each Category\")\n",
        "ecg_plot.update_layout(title_x=0.25, width=1000, height=500)\n",
        "ecg_plot.show()"
      ]
    },
    {
      "cell_type": "code",
      "execution_count": null,
      "metadata": {
        "execution": {
          "iopub.execute_input": "2025-01-08T09:53:15.075648Z",
          "iopub.status.busy": "2025-01-08T09:53:15.075333Z",
          "iopub.status.idle": "2025-01-08T09:53:15.080054Z",
          "shell.execute_reply": "2025-01-08T09:53:15.079194Z",
          "shell.execute_reply.started": "2025-01-08T09:53:15.075626Z"
        },
        "id": "23FUV8mbV_d1",
        "trusted": true
      },
      "outputs": [],
      "source": [
        "data = train_data.iloc[:,:187]\n",
        "labels = train_data.iloc[:,187]"
      ]
    },
    {
      "cell_type": "code",
      "execution_count": null,
      "metadata": {
        "execution": {
          "iopub.execute_input": "2025-01-08T09:53:16.64797Z",
          "iopub.status.busy": "2025-01-08T09:53:16.647686Z",
          "iopub.status.idle": "2025-01-08T09:53:16.652584Z",
          "shell.execute_reply": "2025-01-08T09:53:16.651685Z",
          "shell.execute_reply.started": "2025-01-08T09:53:16.64795Z"
        },
        "id": "b5B_JhB_V_d1",
        "trusted": true
      },
      "outputs": [],
      "source": [
        "x_train = train_data.iloc[:,:187]\n",
        "y_train= train_data.iloc[:,187]\n",
        "\n",
        "x_test = test_data.iloc[:,:187]\n",
        "y_test = test_data.iloc[: ,187]"
      ]
    },
    {
      "cell_type": "code",
      "execution_count": null,
      "metadata": {
        "execution": {
          "iopub.execute_input": "2025-01-08T09:53:18.847814Z",
          "iopub.status.busy": "2025-01-08T09:53:18.847489Z",
          "iopub.status.idle": "2025-01-08T09:53:18.854079Z",
          "shell.execute_reply": "2025-01-08T09:53:18.853201Z",
          "shell.execute_reply.started": "2025-01-08T09:53:18.847787Z"
        },
        "id": "3QN1tfL6V_d2",
        "trusted": true
      },
      "outputs": [],
      "source": [
        "print('x_train shape: ', x_train.shape)\n",
        "print('y_train shape: ', y_train.shape)\n",
        "\n",
        "print('x_test shape: ', x_test.shape)\n",
        "print('y_test shape: ', y_test.shape)"
      ]
    },
    {
      "cell_type": "code",
      "execution_count": null,
      "metadata": {
        "execution": {
          "iopub.execute_input": "2025-01-08T09:56:36.849832Z",
          "iopub.status.busy": "2025-01-08T09:56:36.849542Z",
          "iopub.status.idle": "2025-01-08T09:56:36.884458Z",
          "shell.execute_reply": "2025-01-08T09:56:36.88376Z",
          "shell.execute_reply.started": "2025-01-08T09:56:36.84981Z"
        },
        "id": "nZef8JfGV_d2",
        "trusted": true
      },
      "outputs": [],
      "source": [
        "model = Sequential([\n",
        "    Input(shape=(187,)),\n",
        "    Dense(128, activation='relu'),\n",
        "    Dense(64, activation='relu'),\n",
        "    Dense(32, activation='relu'),\n",
        "    Dense(len(np.unique(y_train)), activation='softmax')\n",
        "])"
      ]
    },
    {
      "cell_type": "code",
      "execution_count": null,
      "metadata": {
        "execution": {
          "iopub.execute_input": "2025-01-08T09:57:06.988075Z",
          "iopub.status.busy": "2025-01-08T09:57:06.987737Z",
          "iopub.status.idle": "2025-01-08T09:57:07.001065Z",
          "shell.execute_reply": "2025-01-08T09:57:07.000418Z",
          "shell.execute_reply.started": "2025-01-08T09:57:06.98803Z"
        },
        "id": "bg1Wl6JhV_d2",
        "trusted": true
      },
      "outputs": [],
      "source": [
        "model.compile(optimizer='adam',\n",
        "              loss='sparse_categorical_crossentropy',\n",
        "              metrics=['accuracy'])"
      ]
    },
    {
      "cell_type": "code",
      "execution_count": null,
      "metadata": {
        "execution": {
          "iopub.execute_input": "2025-01-08T09:57:09.002948Z",
          "iopub.status.busy": "2025-01-08T09:57:09.002606Z",
          "iopub.status.idle": "2025-01-08T09:57:57.775492Z",
          "shell.execute_reply": "2025-01-08T09:57:57.774764Z",
          "shell.execute_reply.started": "2025-01-08T09:57:09.002902Z"
        },
        "id": "T4Xy8RPyV_d2",
        "trusted": true
      },
      "outputs": [],
      "source": [
        "history = model.fit(\n",
        "    x_train, y_train,\n",
        "    validation_data=(x_test, y_test),\n",
        "    epochs=20,\n",
        "    batch_size=64,\n",
        "    verbose=1\n",
        ")"
      ]
    },
    {
      "cell_type": "code",
      "execution_count": null,
      "metadata": {
        "execution": {
          "iopub.execute_input": "2025-01-08T09:58:47.90116Z",
          "iopub.status.busy": "2025-01-08T09:58:47.90083Z",
          "iopub.status.idle": "2025-01-08T09:58:48.201939Z",
          "shell.execute_reply": "2025-01-08T09:58:48.201033Z",
          "shell.execute_reply.started": "2025-01-08T09:58:47.901137Z"
        },
        "id": "JDXphUKEV_d2",
        "trusted": true
      },
      "outputs": [],
      "source": [
        "plt.figure(figsize=(12, 6))\n",
        "plt.plot(history.history['accuracy'], label='Training Accuracy')\n",
        "plt.plot(history.history['val_accuracy'], label='Validation Accuracy')\n",
        "plt.title('Model Accuracy')\n",
        "plt.xlabel('Epoch')\n",
        "plt.ylabel('Accuracy')\n",
        "plt.legend()\n",
        "plt.show()"
      ]
    },
    {
      "cell_type": "code",
      "execution_count": null,
      "metadata": {
        "execution": {
          "iopub.execute_input": "2025-01-08T09:59:05.953303Z",
          "iopub.status.busy": "2025-01-08T09:59:05.952996Z",
          "iopub.status.idle": "2025-01-08T09:59:06.218253Z",
          "shell.execute_reply": "2025-01-08T09:59:06.217429Z",
          "shell.execute_reply.started": "2025-01-08T09:59:05.953278Z"
        },
        "id": "W9vcL29vV_d2",
        "trusted": true
      },
      "outputs": [],
      "source": [
        "plt.figure(figsize=(12, 6))\n",
        "plt.plot(history.history['loss'], label='Training Loss')\n",
        "plt.plot(history.history['val_loss'], label='Validation Loss')\n",
        "plt.title('Model Loss')\n",
        "plt.xlabel('Epoch')\n",
        "plt.ylabel('Loss')\n",
        "plt.legend()\n",
        "plt.show()"
      ]
    },
    {
      "cell_type": "code",
      "execution_count": null,
      "metadata": {
        "execution": {
          "iopub.execute_input": "2025-01-08T10:01:07.104982Z",
          "iopub.status.busy": "2025-01-08T10:01:07.104645Z",
          "iopub.status.idle": "2025-01-08T10:01:09.017594Z",
          "shell.execute_reply": "2025-01-08T10:01:09.016678Z",
          "shell.execute_reply.started": "2025-01-08T10:01:07.104953Z"
        },
        "id": "ywMXgRmZV_d2",
        "trusted": true
      },
      "outputs": [],
      "source": [
        "test_loss, test_accuracy = model.evaluate(x_test, y_test, verbose=0)\n",
        "print(f\"Test Accuracy: {test_accuracy:.2f}\")\n",
        "\n",
        "y_pred = np.argmax(model.predict(x_test), axis=1)\n",
        "print(classification_report(y_test, y_pred))"
      ]
    },
    {
      "cell_type": "code",
      "execution_count": null,
      "metadata": {
        "execution": {
          "iopub.execute_input": "2025-01-08T10:01:49.157527Z",
          "iopub.status.busy": "2025-01-08T10:01:49.157143Z",
          "iopub.status.idle": "2025-01-08T10:01:49.427144Z",
          "shell.execute_reply": "2025-01-08T10:01:49.426238Z",
          "shell.execute_reply.started": "2025-01-08T10:01:49.157497Z"
        },
        "id": "KvEJngP6V_d3",
        "trusted": true
      },
      "outputs": [],
      "source": [
        "cm = confusion_matrix(y_test, y_pred)\n",
        "\n",
        "plt.figure(figsize=(8, 6))\n",
        "sns.heatmap(cm, annot=True, fmt='d', cmap='Blues', xticklabels=np.unique(y_train), yticklabels=np.unique(y_train))\n",
        "plt.xlabel('Predicted Label')\n",
        "plt.ylabel('True Label')\n",
        "plt.title('Confusion Matrix')\n",
        "plt.show()"
      ]
    },
    {
      "cell_type": "code",
      "execution_count": null,
      "metadata": {
        "id": "sS9mgSqMV_d3",
        "trusted": true
      },
      "outputs": [],
      "source": []
    },
    {
      "cell_type": "code",
      "execution_count": null,
      "metadata": {
        "id": "Kj1oV50sV_d3",
        "trusted": true
      },
      "outputs": [],
      "source": []
    },
    {
      "cell_type": "code",
      "execution_count": null,
      "metadata": {
        "id": "G-bvY6VvV_d3",
        "trusted": true
      },
      "outputs": [],
      "source": []
    },
    {
      "cell_type": "code",
      "execution_count": null,
      "metadata": {
        "id": "_66VRNoOV_d3",
        "trusted": true
      },
      "outputs": [],
      "source": []
    },
    {
      "cell_type": "code",
      "execution_count": null,
      "metadata": {
        "id": "k6GtRiqeV_d3",
        "trusted": true
      },
      "outputs": [],
      "source": []
    },
    {
      "cell_type": "code",
      "execution_count": null,
      "metadata": {
        "id": "NgigXesSV_d3",
        "trusted": true
      },
      "outputs": [],
      "source": []
    },
    {
      "cell_type": "code",
      "execution_count": null,
      "metadata": {
        "id": "xiXy1A7aV_d3",
        "trusted": true
      },
      "outputs": [],
      "source": []
    },
    {
      "cell_type": "code",
      "execution_count": null,
      "metadata": {
        "id": "ubEL6HvPV_d3",
        "trusted": true
      },
      "outputs": [],
      "source": []
    },
    {
      "cell_type": "code",
      "execution_count": null,
      "metadata": {
        "id": "joR-0JTGV_d3",
        "trusted": true
      },
      "outputs": [],
      "source": []
    },
    {
      "cell_type": "code",
      "execution_count": null,
      "metadata": {
        "id": "qCwd7BvUV_d4",
        "trusted": true
      },
      "outputs": [],
      "source": []
    },
    {
      "cell_type": "code",
      "execution_count": null,
      "metadata": {
        "id": "VFqppgueV_d4",
        "trusted": true
      },
      "outputs": [],
      "source": []
    },
    {
      "cell_type": "code",
      "execution_count": null,
      "metadata": {
        "id": "0pxwVXxxV_d4",
        "trusted": true
      },
      "outputs": [],
      "source": []
    },
    {
      "cell_type": "code",
      "execution_count": null,
      "metadata": {
        "id": "tHGvY57ZV_d4",
        "trusted": true
      },
      "outputs": [],
      "source": []
    },
    {
      "cell_type": "code",
      "execution_count": null,
      "metadata": {
        "id": "N2fx2rgPV_d4",
        "trusted": true
      },
      "outputs": [],
      "source": []
    },
    {
      "cell_type": "code",
      "execution_count": null,
      "metadata": {
        "id": "pkmVGtD3V_d4",
        "trusted": true
      },
      "outputs": [],
      "source": []
    },
    {
      "cell_type": "code",
      "execution_count": null,
      "metadata": {
        "id": "59Y42AC3V_d4",
        "trusted": true
      },
      "outputs": [],
      "source": []
    },
    {
      "cell_type": "code",
      "execution_count": null,
      "metadata": {
        "id": "EtjZQ-MUV_d4",
        "trusted": true
      },
      "outputs": [],
      "source": []
    },
    {
      "cell_type": "code",
      "execution_count": null,
      "metadata": {
        "id": "6InmrgYvV_d5",
        "trusted": true
      },
      "outputs": [],
      "source": []
    },
    {
      "cell_type": "code",
      "execution_count": null,
      "metadata": {
        "id": "ojHyApj_V_d5",
        "trusted": true
      },
      "outputs": [],
      "source": []
    }
  ],
  "metadata": {
    "colab": {
      "name": "ECG using MLP",
      "provenance": []
    },
    "kaggle": {
      "accelerator": "gpu",
      "dataSources": [
        {
          "datasetId": 29414,
          "sourceId": 37484,
          "sourceType": "datasetVersion"
        }
      ],
      "dockerImageVersionId": 30823,
      "isGpuEnabled": true,
      "isInternetEnabled": true,
      "language": "python",
      "sourceType": "notebook"
    },
    "kernelspec": {
      "display_name": "DLProjectEKGenv",
      "language": "python",
      "name": "python3"
    },
    "language_info": {
      "codemirror_mode": {
        "name": "ipython",
        "version": 3
      },
      "file_extension": ".py",
      "mimetype": "text/x-python",
      "name": "python",
      "nbconvert_exporter": "python",
      "pygments_lexer": "ipython3",
      "version": "3.12.9"
    }
  },
  "nbformat": 4,
  "nbformat_minor": 0
}
